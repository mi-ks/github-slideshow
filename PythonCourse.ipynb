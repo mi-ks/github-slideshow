{
  "nbformat": 4,
  "nbformat_minor": 0,
  "metadata": {
    "colab": {
      "name": "Untitled0.ipynb",
      "provenance": [],
      "authorship_tag": "ABX9TyPTW608R6QHEI/WFDnuzF7N",
      "include_colab_link": true
    },
    "kernelspec": {
      "name": "python3",
      "display_name": "Python 3"
    }
  },
  "cells": [
    {
      "cell_type": "markdown",
      "metadata": {
        "id": "view-in-github",
        "colab_type": "text"
      },
      "source": [
        "<a href=\"https://colab.research.google.com/github/mi-ks/github-slideshow/blob/master/PythonCourse.ipynb\" target=\"_parent\"><img src=\"https://colab.research.google.com/assets/colab-badge.svg\" alt=\"Open In Colab\"/></a>"
      ]
    },
    {
      "cell_type": "markdown",
      "metadata": {
        "id": "-FgvMWCmTi4x",
        "colab_type": "text"
      },
      "source": [
        "# For, While, continue, break, enumerate"
      ]
    },
    {
      "cell_type": "code",
      "metadata": {
        "id": "z-8rJF64StXJ",
        "colab_type": "code",
        "colab": {}
      },
      "source": [
        "#\n",
        "# Example file for working with loops\n",
        "#\n",
        "\n",
        "def main():\n",
        "  x = 0\n",
        "  \n",
        "  # define a while loop\n",
        "  while (x < 5):\n",
        "     print (x)\n",
        "     x = x + 1\n",
        "\n",
        "  # define a for loop\n",
        "  for x in range(5,10):\n",
        "    print (x)\n",
        "    \n",
        "  # use a for loop over a collection\n",
        "  days = [\"Mon\",\"Tue\",\"Wed\",\"Thu\",\"Fri\",\"Sat\",\"Sun\"]\n",
        "  for d in days:\n",
        "    print (d)\n",
        "  \n",
        "  # use the break and continue statements\n",
        "  for x in range(5,10):\n",
        "    #if (x == 7): break\n",
        "    #if (x % 2 == 0): continue\n",
        "    print (x)\n",
        "  \n",
        "  #using the enumerate() function to get index \n",
        "  days = [\"Mon\",\"Tue\",\"Wed\",\"Thu\",\"Fri\",\"Sat\",\"Sun\"]\n",
        "  for i, d in enumerate(days):\n",
        "    print (i, d)\n",
        "  \n",
        "if __name__ == \"__main__\":\n",
        "  main()\n"
      ],
      "execution_count": null,
      "outputs": []
    },
    {
      "cell_type": "code",
      "metadata": {
        "id": "3Sn6hSerWHlV",
        "colab_type": "code",
        "colab": {
          "base_uri": "https://localhost:8080/",
          "height": 102
        },
        "outputId": "6c06b1c6-fca1-4dfe-8d2c-f93fd98eb74f"
      },
      "source": [
        "  # define a while loop\n",
        "  x=0\n",
        "  while (x < 5):\n",
        "     print (x)\n",
        "     x = x + 1"
      ],
      "execution_count": 4,
      "outputs": [
        {
          "output_type": "stream",
          "text": [
            "0\n",
            "1\n",
            "2\n",
            "3\n",
            "4\n"
          ],
          "name": "stdout"
        }
      ]
    },
    {
      "cell_type": "markdown",
      "metadata": {
        "id": "wVNt3qHUSuzq",
        "colab_type": "text"
      },
      "source": [
        ""
      ]
    }
  ]
}